{
 "cells": [
  {
   "attachments": {},
   "cell_type": "markdown",
   "metadata": {},
   "source": [
    "<h1 align=center> CUARTA PARTE DEL PROYECTO: MODELO DE RECOMENDACIÓN </h1>"
   ]
  },
  {
   "attachments": {},
   "cell_type": "markdown",
   "metadata": {},
   "source": [
    "El objetivo es armar un sistema de recomendación de películas para usuarios, donde dado un id de usuario y una película, nos diga si la recomienda o no para dicho usuario."
   ]
  },
  {
   "attachments": {},
   "cell_type": "markdown",
   "metadata": {},
   "source": [
    "---"
   ]
  },
  {
   "attachments": {},
   "cell_type": "markdown",
   "metadata": {},
   "source": [
    "<h3 align=center> Recursos </h3>"
   ]
  },
  {
   "cell_type": "code",
   "execution_count": 60,
   "metadata": {},
   "outputs": [],
   "source": [
    "import numpy as np\n",
    "import pandas as pd\n",
    "\n",
    "from surprise import Dataset, Reader, SVD\n",
    "from surprise.model_selection import train_test_split\n",
    "\n",
    "import matplotlib"
   ]
  },
  {
   "attachments": {},
   "cell_type": "markdown",
   "metadata": {},
   "source": [
    "---"
   ]
  },
  {
   "attachments": {},
   "cell_type": "markdown",
   "metadata": {},
   "source": [
    "<h3 align=center> Data </h3>"
   ]
  },
  {
   "cell_type": "code",
   "execution_count": 61,
   "metadata": {},
   "outputs": [
    {
     "data": {
      "text/html": [
       "<div>\n",
       "<style scoped>\n",
       "    .dataframe tbody tr th:only-of-type {\n",
       "        vertical-align: middle;\n",
       "    }\n",
       "\n",
       "    .dataframe tbody tr th {\n",
       "        vertical-align: top;\n",
       "    }\n",
       "\n",
       "    .dataframe thead th {\n",
       "        text-align: right;\n",
       "    }\n",
       "</style>\n",
       "<table border=\"1\" class=\"dataframe\">\n",
       "  <thead>\n",
       "    <tr style=\"text-align: right;\">\n",
       "      <th></th>\n",
       "      <th>id</th>\n",
       "      <th>userId</th>\n",
       "      <th>rating</th>\n",
       "      <th>title</th>\n",
       "    </tr>\n",
       "  </thead>\n",
       "  <tbody>\n",
       "    <tr>\n",
       "      <th>0</th>\n",
       "      <td>as680</td>\n",
       "      <td>1</td>\n",
       "      <td>1.0</td>\n",
       "      <td>the english civil war</td>\n",
       "    </tr>\n",
       "    <tr>\n",
       "      <th>1</th>\n",
       "      <td>as680</td>\n",
       "      <td>583</td>\n",
       "      <td>4.5</td>\n",
       "      <td>the english civil war</td>\n",
       "    </tr>\n",
       "    <tr>\n",
       "      <th>2</th>\n",
       "      <td>as680</td>\n",
       "      <td>765</td>\n",
       "      <td>5.0</td>\n",
       "      <td>the english civil war</td>\n",
       "    </tr>\n",
       "    <tr>\n",
       "      <th>3</th>\n",
       "      <td>as680</td>\n",
       "      <td>2116</td>\n",
       "      <td>3.0</td>\n",
       "      <td>the english civil war</td>\n",
       "    </tr>\n",
       "    <tr>\n",
       "      <th>4</th>\n",
       "      <td>as680</td>\n",
       "      <td>2143</td>\n",
       "      <td>3.0</td>\n",
       "      <td>the english civil war</td>\n",
       "    </tr>\n",
       "  </tbody>\n",
       "</table>\n",
       "</div>"
      ],
      "text/plain": [
       "      id  userId  rating                  title\n",
       "0  as680       1     1.0  the english civil war\n",
       "1  as680     583     4.5  the english civil war\n",
       "2  as680     765     5.0  the english civil war\n",
       "3  as680    2116     3.0  the english civil war\n",
       "4  as680    2143     3.0  the english civil war"
      ]
     },
     "execution_count": 61,
     "metadata": {},
     "output_type": "execute_result"
    }
   ],
   "source": [
    "df = pd.read_csv('./data/data_ML.csv')\n",
    "df.head()"
   ]
  },
  {
   "attachments": {},
   "cell_type": "markdown",
   "metadata": {},
   "source": [
    "Nota: El archivo data_ML.csv no fue subido a GitHub por superar los 300 megas. Antes de corres este módulo es necesatio volver al módulo de EDA (EDA.ipynb) y correr el último bloque: `df.to_csv('data/data_ML.csv', encoding='utf-8', index=False)`"
   ]
  },
  {
   "cell_type": "code",
   "execution_count": 62,
   "metadata": {},
   "outputs": [
    {
     "name": "stdout",
     "output_type": "stream",
     "text": [
      "<class 'pandas.core.frame.DataFrame'>\n",
      "RangeIndex: 10792583 entries, 0 to 10792582\n",
      "Data columns (total 4 columns):\n",
      " #   Column  Dtype  \n",
      "---  ------  -----  \n",
      " 0   id      object \n",
      " 1   userId  int64  \n",
      " 2   rating  float64\n",
      " 3   title   object \n",
      "dtypes: float64(1), int64(1), object(2)\n",
      "memory usage: 329.4+ MB\n"
     ]
    }
   ],
   "source": [
    "df.info()"
   ]
  },
  {
   "cell_type": "code",
   "execution_count": 63,
   "metadata": {},
   "outputs": [],
   "source": [
    "reader = Reader(rating_scale=(1, 5))\n",
    "df_1 = df[['id', 'userId', 'rating']].sample(n=100000, random_state=0)\n",
    "data = Dataset.load_from_df(df_1, reader)\n",
    "# El método sólo permite utiizar 100k registros\n"
   ]
  },
  {
   "cell_type": "code",
   "execution_count": 64,
   "metadata": {},
   "outputs": [
    {
     "data": {
      "text/html": [
       "<div>\n",
       "<style scoped>\n",
       "    .dataframe tbody tr th:only-of-type {\n",
       "        vertical-align: middle;\n",
       "    }\n",
       "\n",
       "    .dataframe tbody tr th {\n",
       "        vertical-align: top;\n",
       "    }\n",
       "\n",
       "    .dataframe thead th {\n",
       "        text-align: right;\n",
       "    }\n",
       "</style>\n",
       "<table border=\"1\" class=\"dataframe\">\n",
       "  <thead>\n",
       "    <tr style=\"text-align: right;\">\n",
       "      <th></th>\n",
       "      <th>id</th>\n",
       "      <th>userId</th>\n",
       "      <th>rating</th>\n",
       "    </tr>\n",
       "  </thead>\n",
       "  <tbody>\n",
       "    <tr>\n",
       "      <th>3172845</th>\n",
       "      <td>hs583</td>\n",
       "      <td>123449</td>\n",
       "      <td>2.5</td>\n",
       "    </tr>\n",
       "    <tr>\n",
       "      <th>5891058</th>\n",
       "      <td>as2736</td>\n",
       "      <td>5993</td>\n",
       "      <td>2.0</td>\n",
       "    </tr>\n",
       "    <tr>\n",
       "      <th>909218</th>\n",
       "      <td>ns5276</td>\n",
       "      <td>6222</td>\n",
       "      <td>4.0</td>\n",
       "    </tr>\n",
       "    <tr>\n",
       "      <th>1883503</th>\n",
       "      <td>ns645</td>\n",
       "      <td>117215</td>\n",
       "      <td>2.5</td>\n",
       "    </tr>\n",
       "    <tr>\n",
       "      <th>10020113</th>\n",
       "      <td>ns7642</td>\n",
       "      <td>68854</td>\n",
       "      <td>4.5</td>\n",
       "    </tr>\n",
       "    <tr>\n",
       "      <th>7662561</th>\n",
       "      <td>ns8036</td>\n",
       "      <td>122347</td>\n",
       "      <td>3.0</td>\n",
       "    </tr>\n",
       "    <tr>\n",
       "      <th>4486860</th>\n",
       "      <td>as4297</td>\n",
       "      <td>60185</td>\n",
       "      <td>4.0</td>\n",
       "    </tr>\n",
       "    <tr>\n",
       "      <th>10242883</th>\n",
       "      <td>as3413</td>\n",
       "      <td>266061</td>\n",
       "      <td>3.0</td>\n",
       "    </tr>\n",
       "    <tr>\n",
       "      <th>6667825</th>\n",
       "      <td>hs807</td>\n",
       "      <td>15086</td>\n",
       "      <td>3.0</td>\n",
       "    </tr>\n",
       "    <tr>\n",
       "      <th>4601913</th>\n",
       "      <td>hs2201</td>\n",
       "      <td>54735</td>\n",
       "      <td>5.0</td>\n",
       "    </tr>\n",
       "  </tbody>\n",
       "</table>\n",
       "</div>"
      ],
      "text/plain": [
       "              id  userId  rating\n",
       "3172845    hs583  123449     2.5\n",
       "5891058   as2736    5993     2.0\n",
       "909218    ns5276    6222     4.0\n",
       "1883503    ns645  117215     2.5\n",
       "10020113  ns7642   68854     4.5\n",
       "7662561   ns8036  122347     3.0\n",
       "4486860   as4297   60185     4.0\n",
       "10242883  as3413  266061     3.0\n",
       "6667825    hs807   15086     3.0\n",
       "4601913   hs2201   54735     5.0"
      ]
     },
     "execution_count": 64,
     "metadata": {},
     "output_type": "execute_result"
    }
   ],
   "source": [
    "df_1.tail(n=10)"
   ]
  },
  {
   "attachments": {},
   "cell_type": "markdown",
   "metadata": {},
   "source": [
    "---"
   ]
  },
  {
   "attachments": {},
   "cell_type": "markdown",
   "metadata": {},
   "source": [
    "#### 1. El primer paso siempre es instanciar el modelo, en este caso SVD (_Singular Value Decomposition_)"
   ]
  },
  {
   "cell_type": "code",
   "execution_count": 65,
   "metadata": {},
   "outputs": [],
   "source": [
    "model = SVD()"
   ]
  },
  {
   "attachments": {},
   "cell_type": "markdown",
   "metadata": {},
   "source": [
    "---"
   ]
  },
  {
   "attachments": {},
   "cell_type": "markdown",
   "metadata": {},
   "source": [
    "#### 2. Dividimos nuestros datos en datos de test y datos de entrenamiento"
   ]
  },
  {
   "cell_type": "code",
   "execution_count": 66,
   "metadata": {},
   "outputs": [],
   "source": [
    "train_data, test_data = train_test_split(data, test_size=0.3)"
   ]
  },
  {
   "attachments": {},
   "cell_type": "markdown",
   "metadata": {},
   "source": [
    "---"
   ]
  },
  {
   "attachments": {},
   "cell_type": "markdown",
   "metadata": {},
   "source": [
    "#### 3. Entrenamiento del modelo utilizando el método `fit()`"
   ]
  },
  {
   "cell_type": "code",
   "execution_count": 67,
   "metadata": {},
   "outputs": [
    {
     "data": {
      "text/plain": [
       "<surprise.prediction_algorithms.matrix_factorization.SVD at 0x7f3b5f8f0220>"
      ]
     },
     "execution_count": 67,
     "metadata": {},
     "output_type": "execute_result"
    }
   ],
   "source": [
    "model.fit(train_data)"
   ]
  },
  {
   "attachments": {},
   "cell_type": "markdown",
   "metadata": {},
   "source": [
    "---"
   ]
  },
  {
   "attachments": {},
   "cell_type": "markdown",
   "metadata": {},
   "source": [
    "#### 4. Aplicamos el modelo a los datos de test"
   ]
  },
  {
   "cell_type": "code",
   "execution_count": 68,
   "metadata": {},
   "outputs": [],
   "source": [
    "predictions = model.test(test_data)"
   ]
  },
  {
   "cell_type": "code",
   "execution_count": 69,
   "metadata": {},
   "outputs": [
    {
     "data": {
      "text/plain": [
       "[Prediction(uid='ns7874', iid=30950, r_ui=3.0, est=3.534721047106184, details={'was_impossible': False}),\n",
       " Prediction(uid='as3122', iid=67897, r_ui=2.0, est=3.1173395512340565, details={'was_impossible': False}),\n",
       " Prediction(uid='as3371', iid=70648, r_ui=3.0, est=3.185253281776118, details={'was_impossible': False}),\n",
       " Prediction(uid='hs866', iid=40291, r_ui=4.0, est=3.3159531316008315, details={'was_impossible': False}),\n",
       " Prediction(uid='as4890', iid=13777, r_ui=5.0, est=3.741023973737038, details={'was_impossible': False}),\n",
       " Prediction(uid='as6975', iid=17364, r_ui=3.0, est=3.6352253629773785, details={'was_impossible': False}),\n",
       " Prediction(uid='ns5170', iid=119556, r_ui=4.0, est=3.5313357142857145, details={'was_impossible': False}),\n",
       " Prediction(uid='ns872', iid=250949, r_ui=4.0, est=3.5795734470809375, details={'was_impossible': False}),\n",
       " Prediction(uid='as8881', iid=259284, r_ui=3.0, est=3.752192495296696, details={'was_impossible': False}),\n",
       " Prediction(uid='ns683', iid=16948, r_ui=5.0, est=3.7005051714796875, details={'was_impossible': False})]"
      ]
     },
     "execution_count": 69,
     "metadata": {},
     "output_type": "execute_result"
    }
   ],
   "source": [
    "predictions[0:10]"
   ]
  },
  {
   "attachments": {},
   "cell_type": "markdown",
   "metadata": {},
   "source": [
    "---"
   ]
  },
  {
   "attachments": {},
   "cell_type": "markdown",
   "metadata": {},
   "source": [
    "<h3 align=center> Predicciones </h3>"
   ]
  },
  {
   "attachments": {},
   "cell_type": "markdown",
   "metadata": {},
   "source": [
    "Dado el ususario '5924' y la película 'ds206' la predicción que se obtiene es la sigueinte:"
   ]
  },
  {
   "cell_type": "code",
   "execution_count": 70,
   "metadata": {},
   "outputs": [
    {
     "data": {
      "text/plain": [
       "Prediction(uid=5924, iid='ds206', r_ui=None, est=3.5313357142857145, details={'was_impossible': False})"
      ]
     },
     "execution_count": 70,
     "metadata": {},
     "output_type": "execute_result"
    }
   ],
   "source": [
    "model.predict(5924, 'ds206')"
   ]
  },
  {
   "attachments": {},
   "cell_type": "markdown",
   "metadata": {},
   "source": [
    "Se estima que el usuario anterior puede llegar a evaluar a `ds206` en 3.5"
   ]
  },
  {
   "attachments": {},
   "cell_type": "markdown",
   "metadata": {},
   "source": [
    "---"
   ]
  },
  {
   "attachments": {},
   "cell_type": "markdown",
   "metadata": {},
   "source": [
    "<h3 align=center> Referencias </h3>"
   ]
  },
  {
   "attachments": {},
   "cell_type": "markdown",
   "metadata": {},
   "source": [
    "[1] https://surprise.readthedocs.io/en/stable/ </br>\n",
    "[2] https://rubialesalberto.medium.com/singular-value-decomposition-svd-con-python-creando-un-sistema-de-recomendacion-640de1b8b002 </br>\n",
    "[3] https://interactivechaos.com/es/wiki/descomposicion-en-valores-singulares-svd </br>\n",
    "\n"
   ]
  }
 ],
 "metadata": {
  "kernelspec": {
   "display_name": "Python 3",
   "language": "python",
   "name": "python3"
  },
  "language_info": {
   "codemirror_mode": {
    "name": "ipython",
    "version": 3
   },
   "file_extension": ".py",
   "mimetype": "text/x-python",
   "name": "python",
   "nbconvert_exporter": "python",
   "pygments_lexer": "ipython3",
   "version": "3.10.6"
  },
  "orig_nbformat": 4,
  "vscode": {
   "interpreter": {
    "hash": "916dbcbb3f70747c44a77c7bcd40155683ae19c65e1c03b4aa3499c5328201f1"
   }
  }
 },
 "nbformat": 4,
 "nbformat_minor": 2
}
